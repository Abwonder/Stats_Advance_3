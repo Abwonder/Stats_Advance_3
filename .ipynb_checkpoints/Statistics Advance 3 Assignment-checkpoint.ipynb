{
 "cells": [
  {
   "cell_type": "markdown",
   "id": "882f5c13",
   "metadata": {},
   "source": [
    "## Statistic Advance - 3"
   ]
  },
  {
   "cell_type": "markdown",
   "id": "c353a445",
   "metadata": {},
   "source": [
    "### Question 1\n",
    "\n",
    "Q1: What is Estimation Statistics? Explain point estimate and interval estimate.\n",
    "\n",
    "Estimation statistics is a branch of statistics that deals with the estimation of population parameters based on sample data. It involves using statistical techniques to estimate the value of a population parameter, such as a mean or proportion, from a sample of data.\n",
    "\n",
    "__Point Estimate__\n",
    "\n",
    "A point estimate is a single value that is used to estimate the population parameter which is calculated using a sample statistic, such as the sample mean, sample proportion, or sample standard deviation, which is assumed to be a reasonable approximation of the corresponding population parameter. For example, if we want to estimate the mean income of a population based on a sample of data, we can calculate the sample mean income and use it as a point estimate of the population mean income.\n",
    "\n",
    "Because a point estimate alone does not provide information about the precision or uncertainty of the estimate pave way for __Interval Estimate__. To account for this, interval estimate is used. \n",
    "\n",
    "\n",
    "\n",
    "__Interval Estimate__\n",
    "\n",
    "Interval estimate is calculated using the point estimate and a measure of precision or uncertainty, such as the standard error or the standard deviation of the sample distribution. For example, if we want to estimate the mean income of a population with a 95% confidence interval, we can calculate the sample mean income and the standard error, and then use a statistical formula to calculate the lower and upper bounds of the confidence interval.\n",
    "\n",
    "An interval estimate provides a range of values that is likely to contain the true value of the population parameter with a certain level of confidence. It is usually expressed as a lower bound and an upper bound of the range. The level of confidence is determined by a confidence level, which is typically set at 90%, 95%, or 99%."
   ]
  },
  {
   "cell_type": "markdown",
   "id": "213ce6c0",
   "metadata": {},
   "source": [
    "### Question 2\n",
    "\n",
    "Q2. Write a Python function to estimate the population mean using a sample mean and standard\n",
    "deviation."
   ]
  },
  {
   "cell_type": "code",
   "execution_count": 1,
   "id": "ab2dc19d",
   "metadata": {},
   "outputs": [],
   "source": [
    "def estimate_population_mean(sample_mean, sample_std, sample_size):\n",
    "    ## importing needed library\n",
    "    import math\n",
    "    \n",
    "    # Calculate the standard error\n",
    "    std_error = sample_std / math.sqrt(sample_size)\n",
    "    \n",
    "    # Calculate the confidence interval\n",
    "    z = 1.96 # for a 95% confidence interval# calculated using ztable\n",
    "    lower_bound = sample_mean - z * std_error\n",
    "    upper_bound = sample_mean + z * std_error\n",
    "    \n",
    "    # Return the estimated population mean\n",
    "    return (lower_bound + upper_bound) / 2\n"
   ]
  },
  {
   "cell_type": "code",
   "execution_count": 3,
   "id": "8a31d919",
   "metadata": {},
   "outputs": [
    {
     "data": {
      "text/plain": [
       "7.9"
      ]
     },
     "execution_count": 3,
     "metadata": {},
     "output_type": "execute_result"
    }
   ],
   "source": [
    "## trying out the above code\n",
    "## statistics used\n",
    "sample_mean = 7.9\n",
    "sample_std = 1.3\n",
    "sample_size = 50\n",
    "\n",
    "## Estimate population mean\n",
    "estimate_population_mean(sample_mean, sample_std, sample_size)\n"
   ]
  },
  {
   "cell_type": "markdown",
   "id": "c3b5cf46",
   "metadata": {},
   "source": [
    "### Question 3\n",
    "\n",
    "Q3: What is Hypothesis testing? Why is it used? State the importance of Hypothesis testing.\n",
    "\n",
    "Hypothesis testing is a statistical method used to make decisions based on data about a population. The main goal of hypothesis testing is to determine whether there is enough evidence in the sample data to support a hypothesis about the population. In other words, hypothesis testing involves making an inference about a population parameter based on a sample statistic.\n",
    "\n",
    "\n",
    "It is used to make emprically informed decision that is not based on intuition as it provides with the abilityto provide a framework for making informed decisions based on data. In addition, without hypothesis testing, decisions would be based on intuition, personal experience, or incomplete information.\n",
    "\n",
    "__Below are the importance of Hypothesis testing__\n",
    "\n",
    "1. Provides objective evidence: Hypothesis testing provides a structured and objective approach to analyzing data, which helps to reduce the likelihood of subjective bias in decision-making.\n",
    "\n",
    "2. Helps to make informed decisions: By using hypothesis testing to analyze data, we can make informed decisions based on statistical evidence rather than intuition or guesswork.\n",
    "\n",
    "3. Evaluates the validity of research: Hypothesis testing is critical in evaluating the validity of research studies, particularly in fields such as medicine, psychology, and social sciences.\n",
    "\n",
    "4. Provides a basis for generalization: The results of hypothesis testing can be used to generalize findings from a sample to a larger population, allowing researchers to draw more meaningful and accurate conclusions."
   ]
  },
  {
   "cell_type": "markdown",
   "id": "f51ac3a9",
   "metadata": {},
   "source": [
    "### Question 4\n",
    "\n",
    "Q4. Create a hypothesis that states whether the average weight of male college students is greater than the average weight of female college students.\n",
    "\n",
    "__Answer:__\n",
    "\n",
    "Average Weight Male = µm\n",
    "\n",
    "Average Weight female = µf\n",
    "\n",
    "Ho: µm <= µf\n",
    "Ha: µm > µf\n",
    "\n",
    "\n",
    "Where:\n",
    "\n",
    "H0 is the null hypothesis\n",
    "\n",
    "Ha is the alternative hypothesis\n",
    "\n",
    "µm is the population mean weight of male college students\n",
    "\n",
    "µf is the population mean weight of female college students\n"
   ]
  },
  {
   "cell_type": "markdown",
   "id": "c5fbe5fb",
   "metadata": {},
   "source": [
    "### Question 5\n",
    "\n",
    "Q5. Write a Python script to conduct a hypothesis test on the difference between two population means,\n",
    "given a sample from each population.\n",
    "\n",
    "Hypothesis Development:\n",
    "\n",
    "Null Hypothesis (H0): The mean of the first population is equal to the mean of the second population.\n",
    "\n",
    "Alternative Hypothesis (Ha): The mean of the first population is not equal to the mean of the second population.\n",
    "\n",
    "Symbolically, this can be represented as:\n",
    "\n",
    "H0: μ1 = μ2\n",
    "\n",
    "Ha: μ1 ≠ μ2\n",
    "\n",
    "Where:\n",
    "H0 is the null hypothesis\n",
    "Ha is the alternative hypothesis\n",
    "μ1 is the population mean of the first population\n",
    "μ2 is the population mean of the second population"
   ]
  },
  {
   "cell_type": "code",
   "execution_count": 4,
   "id": "b6da93bd",
   "metadata": {},
   "outputs": [
    {
     "name": "stdout",
     "output_type": "stream",
     "text": [
      "t-statistic:  -9.257969052994302\n",
      "p-value:  4.945157984122421e-15\n",
      "Reject null hypothesis: There is a significant difference between the population means.\n"
     ]
    }
   ],
   "source": [
    "### Code\n",
    "\n",
    "import numpy as np ## to generate np.random.normal distribution of data\n",
    "from scipy.stats import ttest_ind  ## for test analysis\n",
    "\n",
    "# Generate two random samples with different means\n",
    "sample1 = np.random.normal(loc=10, size=50)\n",
    "sample2 = np.random.normal(loc=12, size=50)\n",
    "\n",
    "# Conduct a two-sample t-test\n",
    "t_stat, p_value = ttest_ind(sample1, sample2, equal_var=False)\n",
    "\n",
    "# Print the results\n",
    "print(\"t-statistic: \", t_stat)\n",
    "print(\"p-value: \", p_value)\n",
    "\n",
    "# Interpret the results\n",
    "if p_value < 0.05:\n",
    "    print(\"Reject null hypothesis: There is a significant difference between the population means.\")\n",
    "else:\n",
    "    print(\"Fail to reject null hypothesis: There is not enough evidence to conclude a significant difference between the population means.\")\n"
   ]
  },
  {
   "cell_type": "markdown",
   "id": "4d96d721",
   "metadata": {},
   "source": [
    "### Question 6\n",
    "\n",
    "Q6: What is a null and alternative hypothesis? Give some examples.\n",
    "\n",
    "Null hypothesis represents a default or baseline assumption, while the alternative hypothesis provides a specific claim or statement that will be tested using statistical methods. The decision to reject or fail to reject the null hypothesis is based on the strength of evidence provided by the data and the chosen level of significance.\n",
    "\n",
    "__Definition__\n",
    "\n",
    "A null hypothesis and an alternative hypothesis are two statements used in hypothesis testing to evaluate the relationship between two variables or populations. The null hypothesis is a statement of \"no effect\" or \"no difference,\" while the alternative hypothesis is a statement that contradicts the null hypothesis by proposing a specific direction or magnitude of effect or difference.\n",
    "\n",
    "Below is an example:\n",
    "\n",
    "\n",
    "1. Example 1: Does a new drug lower blood pressure?\n",
    "\n",
    "Null Hypothesis (H0): The new drug does not lower blood pressure.\n",
    "\n",
    "Alternative Hypothesis (Ha): The new drug lowers blood pressure.\n",
    "\n",
    "Symbolically, this can be represented as:\n",
    "\n",
    "H0: μ1 = μ2\n",
    "\n",
    "Ha: μ1 < μ2 (lower blood pressure)\n",
    "\n",
    "\n",
    "2. Example 2: Is there a gender difference in academic performance?\n",
    "\n",
    "Null Hypothesis (H0): There is no difference in academic performance between males and females.\n",
    "\n",
    "Alternative Hypothesis (Ha): There is a difference in academic performance between males and females.\n",
    "\n",
    "Symbolically, this can be represented as:\n",
    "\n",
    "H0: μmale = μfemale\n",
    "\n",
    "Ha: μmale ≠ μfemale"
   ]
  },
  {
   "cell_type": "markdown",
   "id": "84b441b0",
   "metadata": {},
   "source": [
    "## Question 7\n",
    "Q7: Write down the steps involved in hypothesis testing.\n",
    "\n",
    "Below are the full steps:\n",
    "\n",
    "1. State the null hypothesis (H0) and the alternative hypothesis (Ha).\n",
    "\n",
    "The null hypothesis represents the default assumption or claim, while the alternative hypothesis represents the claim that is being tested.\n",
    "\n",
    "2. Choose a significance level (α) for the test.\n",
    "\n",
    "The significance level is the probability of rejecting the null hypothesis when it is actually true. It is usually set at 0.05 (5%) or 0.01 (1%).\n",
    "\n",
    "\n",
    "3. Identify the appropriate statistical test and test statistic to use for the hypothesis test.\n",
    "\n",
    "The choice of test depends on the type of data and the nature of the hypothesis being tested. The test statistic is a summary measure of the sample data used to evaluate the null hypothesis.\n",
    "\n",
    "4. Collect the data and calculate the test statistic.\n",
    "\n",
    "The test statistic is calculated from the sample data using a specific formula or algorithm based on the chosen statistical test.\n",
    "\n",
    "5. Determine the p-value associated with the test statistic.\n",
    "\n",
    "The p-value is the probability of obtaining a test statistic as extreme as or more extreme than the observed one, assuming that the null hypothesis is true.\n",
    "\n",
    "6. Compare the p-value with the significance level (α) and make a decision to either reject or fail to reject the null hypothesis.\n",
    "\n",
    "If the p-value is less than or equal to the significance level, reject the null hypothesis and accept the alternative hypothesis. If the p-value is greater than the significance level, fail to reject the null hypothesis and do not accept the alternative hypothesis.\n",
    "\n",
    "7. Interpret the results in the context of the problem being studied.\n",
    "\n",
    "Once a decision has been made, interpret the results of the hypothesis test in the context of the problem being studied. State the conclusions that can be drawn and discuss the implications for the population or phenomenon under investigation.\n",
    "\n",
    "\n",
    "\n"
   ]
  },
  {
   "cell_type": "markdown",
   "id": "f59ab450",
   "metadata": {},
   "source": [
    "### Question 8\n",
    "\n",
    "Q8. Define p-value and explain its significance in hypothesis testing.\n",
    "\n",
    "The p-value is a probability value that measures the strength of evidence against the null hypothesis in a hypothesis test. It represents the probability of obtaining a test statistic as extreme as or more extreme than the observed one, assuming that the null hypothesis is true.\n",
    "\n",
    "It is significance in hypothesis testing because output of hypothesis testing, as it allows researchers to make a statistical decision about whether to reject or fail to reject the null hypothesis. If the p-value is less than or equal to the significance level (α), then the null hypothesis is rejected, and the alternative hypothesis is accepted. If the p-value is greater than the significance level, then the null hypothesis is not rejected."
   ]
  },
  {
   "cell_type": "markdown",
   "id": "940ac808",
   "metadata": {},
   "source": [
    "### Question 9\n",
    "\n",
    "\n",
    "Q9. Generate a Student's t-distribution plot using Python's matplotlib library, with the degrees of freedom\n",
    "parameter set to 10.\n",
    "\n"
   ]
  },
  {
   "cell_type": "code",
   "execution_count": 17,
   "id": "091253aa",
   "metadata": {},
   "outputs": [
    {
     "data": {
      "image/png": "[encoded data removed]",
      "text/plain": [
       "<Figure size 432x288 with 1 Axes>"
      ]
     },
     "metadata": {
      "needs_background": "light"
     },
     "output_type": "display_data"
    }
   ],
   "source": [
    "import numpy as np\n",
    "import matplotlib.pyplot as plt\n",
    "from scipy.stats import t\n",
    "\n",
    "# Set the degrees of freedom parameter\n",
    "df = 10\n",
    "\n",
    "# Generate x values for the plot using percentage probability function\n",
    "x = np.linspace(t.ppf(0.001, df), t.ppf(0.999, df), 100)\n",
    "\n",
    "# Create the t-distribution plot\n",
    "plt.plot(x, t.pdf(x, df), '--r', label='t-distribution (df=10)')\n",
    "\n",
    "# Add a legend and title to the plot\n",
    "plt.legend()\n",
    "plt.title(\"Student's t-distribution (df=10)\")\n",
    "\n",
    "# Show the plot\n",
    "plt.show()\n"
   ]
  },
  {
   "cell_type": "markdown",
   "id": "2ad00ba1",
   "metadata": {},
   "source": [
    "### Question 10\n",
    "\n",
    "Q10. Write a Python program to calculate the two-sample t-test for independent samples, given two\n",
    "random samples of equal size and a null hypothesis that the population means are equal."
   ]
  },
  {
   "cell_type": "code",
   "execution_count": 18,
   "id": "8f4d7a3e",
   "metadata": {},
   "outputs": [
    {
     "data": {
      "text/plain": [
       "Ttest_indResult(statistic=-0.6337397070250238, pvalue=0.5300471010405257)"
      ]
     },
     "execution_count": 18,
     "metadata": {},
     "output_type": "execute_result"
    }
   ],
   "source": [
    "# Python program to demonstrate how to\n",
    "# perform two sample T-test\n",
    " \n",
    "# Import the library\n",
    "import scipy.stats as stats\n",
    " \n",
    "# Creating data groups\n",
    "data_group1 = np.array([14, 15, 15, 16, 13, 8, 14,\n",
    "                        17, 16, 14, 19, 20, 21, 15,\n",
    "                        15, 16, 16, 13, 14, 12])\n",
    " \n",
    "data_group2 = np.array([15, 17, 14, 17, 14, 8, 12,\n",
    "                        19, 19, 14, 17, 22, 24, 16,\n",
    "                        13, 16, 13, 18, 15, 13])\n",
    " \n",
    "# Perform the two sample t-test with equal variances\n",
    "stats.ttest_ind(a=data_group1, b=data_group2, equal_var=True)\n",
    "t, p =stats.ttest_ind(a=data_group1, b=data_group2, equal_var=True)"
   ]
  },
  {
   "cell_type": "markdown",
   "id": "0813bc67",
   "metadata": {},
   "source": [
    "### Question 11\n",
    "\n",
    "Q11: What is Student’s t distribution? When to use the t-Distribution.\n",
    "\n",
    "\n",
    "The Student's t-distribution is a probability distribution that is used in hypothesis testing and statistical inference when the population standard deviation is unknown, and the sample size is small. It is similar to the normal distribution but has heavier tails, which means it has more values in the tails of the distribution than the normal distribution.\n",
    "\n",
    "It is used when:\n",
    "\n",
    "t-distribution is used when the population standard deviation is unknown, and the sample size is small. It is used in hypothesis testing and confidence interval estimation when the sample size is less than 30 or when the population standard deviation is unknown.\n"
   ]
  },
  {
   "cell_type": "markdown",
   "id": "385b3627",
   "metadata": {},
   "source": [
    "### Question 12\n",
    "\n",
    "Q12: What is t-statistic? State the formula for t-statistic.\n",
    "\n",
    "The t-statistic is a measure of how many standard errors a sample mean is away from the hypothesized population mean. It is used in hypothesis testing to determine whether a sample mean is significantly different from a hypothesized population mean.\n",
    "\n",
    "The formula for the t-statistic is:\n",
    "\n",
    "t = (x̄ - μ) / (s / √n)\n",
    "\n",
    "where:\n",
    "\n",
    "x̄ is the sample mean\n",
    "μ is the hypothesized population mean\n",
    "s is the sample standard deviation\n",
    "n is the sample size"
   ]
  },
  {
   "cell_type": "markdown",
   "id": "5a469b62",
   "metadata": {},
   "source": [
    "### Question 13\n",
    "\n",
    "Q10. Write a Python program to calculate the two-sample t-test for independent samples, given two\n",
    "random samples of equal size and a null hypothesis that the population means are equal.\n",
    "\n",
    "Using the code I created earlier to solve this!!!"
   ]
  },
  {
   "cell_type": "code",
   "execution_count": 26,
   "id": "32640c59",
   "metadata": {},
   "outputs": [
    {
     "name": "stdout",
     "output_type": "stream",
     "text": [
      "Estimated population mean: 500.0\n",
      "Confidence interval (lower bound): 486.1407070887437\n",
      "Confidence interval (Upper bound): 513.8592929112564\n"
     ]
    }
   ],
   "source": [
    "## Estimating population mean from sample mean, std and size\n",
    "def estimate_population_mean(sample_mean, sample_std, sample_size):\n",
    "    ## importing needed library\n",
    "    import math\n",
    "    \n",
    "    # Calculate the standard error\n",
    "    std_error = sample_std / math.sqrt(sample_size)\n",
    "    \n",
    "    # Calculate the confidence interval\n",
    "    z = 1.96 # for a 95% confidence interval# calculated using ztable\n",
    "    lower_bound = sample_mean - z * std_error\n",
    "    upper_bound = sample_mean + z * std_error\n",
    "    \n",
    "    # Return the estimated population mean\n",
    "    pop_estimated_mean = (lower_bound + upper_bound) / 2\n",
    "#     return (lower_bound + upper_bound) / 2, lower_bound, upper_bound\n",
    "    print('Estimated population mean: {}'.format(pop_estimated_mean))\n",
    "    print('Confidence interval (lower bound): {}'.format(lower_bound))\n",
    "    print('Confidence interval (Upper bound): {}'.format(upper_bound))\n",
    "\n",
    "## trying out the above code\n",
    "## statistics used\n",
    "sample_mean = 500\n",
    "sample_std = 50\n",
    "sample_size = 50\n",
    "\n",
    "## Estimate population mean\n",
    "estimate_population_mean(sample_mean, sample_std, sample_size)   "
   ]
  },
  {
   "cell_type": "markdown",
   "id": "eea1ea8a",
   "metadata": {},
   "source": [
    "### Question 14\n",
    "\n",
    "Q14. A researcher hypothesizes that a new drug will decrease blood pressure by 10 mmHg. They conduct a\n",
    "clinical trial with 100 patients and find that the sample mean decrease in blood pressure is 8 mmHg with a\n",
    "standard deviation of 3 mmHg. Test the hypothesis with a significance level of 0.05.\n",
    "\n",
    "__Answer__\n",
    "\n",
    "Hypothesis formulation\n",
    "\n",
    "H0:The decrease in blood pressure true mean is not significatly from 10 mmHg\n",
    "Ha:The decrease in blood pressure true mean is significatly less than 10 mmHg\n",
    "\n",
    "parmeter given:\n",
    "\n",
    "n == 100\n",
    "xp == 10\n",
    "xs == 8\n",
    "δs == 3  \n",
    "\n",
    "\n",
    "symbolic:\n",
    "\n",
    "H0:  xp = µ \n",
    "Ha:  xs < µ\n",
    "\n",
    "where:\n",
    "µ == The true mean\n",
    "xp == assumed population mean\n",
    "xs == sample mean\n",
    "\n",
    "Note: We use t-test because population std was not given\n",
    "\n",
    "formular:\n",
    "\n",
    "t = (sample mean - hypothesized mean) / (standard deviation / sqrt(sample size))\n"
   ]
  },
  {
   "cell_type": "code",
   "execution_count": 54,
   "id": "9b86fbda",
   "metadata": {},
   "outputs": [],
   "source": [
    "## code to solve this using the formular\n",
    "def onetail_ttest(population_mean, sample_size, sample_mean, sample_std):\n",
    "    import math  ## for sqrt\n",
    "       \n",
    "    ## t value calculated\n",
    "    t_cal = (sample_mean-population_mean)/(sample_std/math.sqrt(sample_size))   \n",
    "    return t_cal  \n",
    "\n",
    "\n",
    "\n"
   ]
  },
  {
   "cell_type": "code",
   "execution_count": 53,
   "id": "97bfe246",
   "metadata": {},
   "outputs": [],
   "source": [
    "def t_tabulated(df, alpha):\n",
    "    from scipy.stats import t\n",
    "    \n",
    "    # degrees of freedom\n",
    "    df -= 1\n",
    "    \n",
    "    # one-tailed critical value\n",
    "    critical_value = t.ppf(alpha, df)\n",
    "    \n",
    "    return critical_value"
   ]
  },
  {
   "cell_type": "code",
   "execution_count": 52,
   "id": "41fe8d65",
   "metadata": {},
   "outputs": [
    {
     "name": "stdout",
     "output_type": "stream",
     "text": [
      "t_statistics:-6.666666666666667\n",
      "Critical Value:-1.6603911559963902\n",
      "\n",
      "Reject the null hypothesis, and conclude that the decrease in blood is significantly less that 10mmHg\n"
     ]
    }
   ],
   "source": [
    "#1 Calculate t\n",
    "n = 100\n",
    "xp = 10\n",
    "xs = 8\n",
    "δs = 3 \n",
    "df = 100\n",
    "alpha = 0.05\n",
    "t_cal = onetail_ttest(xp, n, xs, δs)\n",
    "t_tab = t_tabulated(df, alpha)\n",
    "\n",
    "print(\"t_statistics:{}\".format(t_cal))\n",
    "print(\"Critical Value:{}\\n\".format(t_tab))\n",
    "\n",
    "if t_cal < t_tab:\n",
    "    print(\"Reject the null hypothesis, and conclude that the decrease in blood is significantly less that 10mmHg\")\n",
    "else:\n",
    "    print(\"Accept null hypothesis, and conclude that the decrease in blood is not significantly different from 10mmHg\")\n",
    "    "
   ]
  },
  {
   "attachments": {
    "image-3.png": {
     "image/png": "[encoded data removed]"
    }
   },
   "cell_type": "markdown",
   "id": "9a9a47aa",
   "metadata": {},
   "source": [
    "### Question 15\n",
    "\n",
    "Q15. An electronics company produces a certain type of product with a mean weight of 5 pounds and a standard deviation of 0.5 pounds. A random sample of 25 products is taken, and the sample mean weight\n",
    "is found to be 4.8 pounds. Test the hypothesis that the true mean weight of the products is less than 5\n",
    "pounds with a significance level of 0.01.\n",
    "\n",
    "__Solution:__\n",
    "\n",
    "hypothesis:\n",
    "\n",
    "H0: The true mean weight is not significantly different from 5 pounds weight.\n",
    "Ha: The true mean weight is significantly less than from 5 pounds weight.\n",
    "\n",
    "alpha level = 0.01\n",
    "\n",
    "First method using: Zscore\n",
    "Z test will be used because we have population mean and population standard\n",
    "\n",
    "Critical value = 1-0.001 = 99 = 2.33  ##it will be negative because its less than\n",
    "becomes:\n",
    "\n",
    "Critical value = -2.33\n",
    "\n",
    "if Z score calculated is < 2.33 we reject the Null hypothesis\n",
    "\n",
    "\n",
    "z = (sample mean - hypothesized population mean) / (standard deviation / sqrt(sample size))\n",
    "\n",
    "sample mean = 4.8\n",
    "hypothesized population mean = 5\n",
    "standard deviation = 0.5\n",
    "sample size = 25\n",
    "\n",
    "z = (4.8 - 5)/(0.5/√25)\n",
    "z = -2.0000000000000018\n",
    "\n",
    "__Decision:__ \n",
    "\n",
    "-2 > -2.33\n",
    "\n",
    "__Fail to reject null hypothesis__ because the z-statistic is greater than critical value (Threshold)\n",
    "\n",
    "\n",
    "![image-3.png](attachment:image-3.png)"
   ]
  },
  {
   "cell_type": "markdown",
   "id": "99e7ba2e",
   "metadata": {},
   "source": [
    "Second methon obtaining p-value using Z calculated score\n",
    "\n",
    "usint z score from the first  analysis (so save time) details from above\n",
    "z ≈ -2   ## check this up using z Table\n",
    "p-value = 0.0228\n",
    "alpha = 0.01\n",
    "\n",
    "__Decision:__ \n",
    "\n",
    "P-value > significance value\n",
    "0.0228 > 0.01\n",
    "\n",
    "__Fail to reject null hypothesis__ because the p-value is greater than significance level. This means that there is not enough evidence to support the claim that the true mean weight of the products is less than 5 pounds at a significance level of 0.01.\n"
   ]
  },
  {
   "cell_type": "code",
   "execution_count": 51,
   "id": "9c4ae543",
   "metadata": {},
   "outputs": [
    {
     "name": "stdout",
     "output_type": "stream",
     "text": [
      "Z critical value (left-tailed): -2.33\n",
      "t_statistics:-2.0000000000000018\n",
      "Critical Value:-2.3263478740408408\n",
      "\n",
      "Fail to reject the null hypothesis\n",
      "\n"
     ]
    }
   ],
   "source": [
    "## using python code\n",
    "## code to solve this using the formular\n",
    "def z_test(population_mean, sample_size, sample_mean, sample_std):\n",
    "    import math  ## for sqrt\n",
    "       \n",
    "    ## t value calculated\n",
    "    z_cal = (sample_mean-population_mean)/(sample_std/math.sqrt(sample_size))   \n",
    "    return z_cal \n",
    "\n",
    "\n",
    "def z_tabulated(alpha):\n",
    "    from scipy.stats import norm\n",
    "\n",
    "#     # For a one-tailed test to the right\n",
    "#     alpha = 0.05\n",
    "#     z_critical = norm.ppf(1 - alpha)\n",
    "#     print(f'Z critical value (right-tailed): {z_critical:.2f}')\n",
    "\n",
    "    # For a one-tailed test to the left\n",
    "    z_critical = norm.ppf(alpha)\n",
    "    print(f'Z critical value (left-tailed): {z_critical:.2f}')\n",
    "    \n",
    "    return z_critical\n",
    "\n",
    "\n",
    "#1 Calculate t\n",
    "sample_size = 25\n",
    "population_mean = 5\n",
    "sample_mean = 4.8\n",
    "sample_std = 0.5\n",
    "alpha = 0.01\n",
    "\n",
    "z_cal = z_test(population_mean, sample_size, sample_mean, sample_std)\n",
    "z_critical = z_tabulated(alpha)\n",
    "\n",
    "print(\"t_statistics:{}\".format(z_cal))\n",
    "print(\"Critical Value:{}\\n\".format(z_critical))\n",
    "\n",
    "if z_cal < z_critical:\n",
    "    print(\"Reject the null hypothesis\")\n",
    "else:\n",
    "    print(\"Fail to reject the null hypothesis\\n\")"
   ]
  },
  {
   "cell_type": "code",
   "execution_count": null,
   "id": "ac3f7080",
   "metadata": {},
   "outputs": [],
   "source": [
    "# ### Ways to generate Critical value for one tailes zscore\n",
    "# from scipy.stats import norm\n",
    "\n",
    "# # For a one-tailed test to the right\n",
    "# alpha = 0.01\n",
    "# z_critical = norm.ppf(1 - alpha)\n",
    "# print(f'Z critical value (right-tailed): {z_critical:.2f}')\n",
    "\n",
    "# # For a one-tailed test to the left\n",
    "# alpha = 0.01\n",
    "# z_critical = norm.ppf(alpha)\n",
    "# print(f'Z critical value (left-tailed): {z_critical:.2f}')\n"
   ]
  },
  {
   "cell_type": "markdown",
   "id": "83ff66c5",
   "metadata": {},
   "source": [
    "### Question 16\n",
    "\n",
    "Q16. Two groups of students are given different study materials to prepare for a test. The first group (n1 =\n",
    "30) has a mean score of 80 with a standard deviation of 10, and the second group (n2 = 40) has a mean\n",
    "score of 75 with a standard deviation of 8. Test the hypothesis that the population means for the two\n",
    "groups are equal with a significance level of 0.01.\n",
    "\n",
    "Solution:\n",
    "\n",
    "hypothesis:\n",
    "\n",
    "H0: No significant difference in the sample means (X̄a = X̄b)\n",
    "Ha: Significant differences in sample means (X̄a ≠ X̄b) \n",
    "\n",
    "alpha level = 0.01\n",
    "\n",
    "critical value = 1 - 0.005 = 0.9950 ≈ 2.58\n",
    "\n",
    "For two tail test we need SE to be calculated first:\n",
    "SE = √((std2^2/n1) + (std2^2/n2))\n",
    "\n",
    "Where:\n",
    "std1 =  standard deviation sample 1\n",
    "std2 =  standard deviation sample 2\n",
    "n1 = sample1 size\n",
    "n2 = sample2 size\n",
    "\n",
    "SE = √((10^2/30) + (8^2/40))\n",
    "\n",
    "SE = 2.2211108331943574\n",
    "\n",
    "calculating Z-score \n",
    "Z = (x1 -x2) / SE\n",
    "\n",
    "where \n",
    "x1 = sample1 mean\n",
    "x2 = sample2 mean\n",
    "SE = Standard error\n",
    "\n",
    "z_statistics = (80 - 75) / 2.2211108331943574\n",
    "\n",
    "z_statistics = 2.2511258444537408\n",
    "\n",
    "__Decision:__\n",
    "\n",
    "z_statistic < critical value\n",
    "\n",
    "Fail to reject null hypothesis. This means that there is not enough evidence to support the claim that both mean are difference at a significance level of 0.01."
   ]
  },
  {
   "cell_type": "code",
   "execution_count": 58,
   "id": "73a1e679",
   "metadata": {},
   "outputs": [
    {
     "data": {
      "text/plain": [
       "2.2211108331943574"
      ]
     },
     "execution_count": 58,
     "metadata": {},
     "output_type": "execute_result"
    }
   ],
   "source": [
    "# import math\n",
    "# se = math.sqrt((10**2/30) + (8**2/40))\n",
    "# se"
   ]
  },
  {
   "cell_type": "code",
   "execution_count": 61,
   "id": "d1f85be5",
   "metadata": {},
   "outputs": [
    {
     "name": "stdout",
     "output_type": "stream",
     "text": [
      "Fail to reject the null hypothesis.\n"
     ]
    }
   ],
   "source": [
    "### Using python formula\n",
    "from scipy import stats\n",
    "import numpy as np\n",
    "\n",
    "n1 = 30\n",
    "x1 = 80\n",
    "s1 = 10\n",
    "n2 = 40\n",
    "x2 = 75\n",
    "s2 = 8\n",
    "alpha = 0.01\n",
    "\n",
    "SE = np.sqrt((s1**2/n1) + (s2**2/n2))\n",
    "z = (x1 - x2) / SE\n",
    "p_value = 2 * (1 - stats.norm.cdf(abs(z)))\n",
    "\n",
    "if p_value < alpha:\n",
    "    print(\"Reject the null hypothesis.\")\n",
    "else:\n",
    "    print(\"Fail to reject the null hypothesis.\")"
   ]
  },
  {
   "cell_type": "markdown",
   "id": "0109238c",
   "metadata": {},
   "source": [
    "### Question 17\n",
    "\n",
    "A marketing company wants to estimate the average number of ads watched by viewers during a TV\n",
    "program. They take a random sample of 50 viewers and find that the sample mean is 4 with a standard\n",
    "deviation of 1.5. Estimate the population mean with a 99% confidence interval."
   ]
  },
  {
   "cell_type": "code",
   "execution_count": 67,
   "id": "56253891",
   "metadata": {},
   "outputs": [
    {
     "name": "stdout",
     "output_type": "stream",
     "text": [
      "The 99% confidence interval for the population mean is (3.431, 4.569)\n"
     ]
    }
   ],
   "source": [
    "### using code to sovle this\n",
    "\n",
    "import scipy.stats as stats\n",
    "import math\n",
    "\n",
    "n = 50   ### sample size\n",
    "x_bar = 4  ## sample mean\n",
    "s = 1.5  ## standard deviation\n",
    "confidence_level = 0.99\n",
    "\n",
    "SE = s / math.sqrt(n)  ## finding Standard Error\n",
    "t_critical = stats.t.ppf((1 + confidence_level) / 2, n - 1) ## Tcritical value\n",
    "margin_of_error = t_critical * SE \n",
    "CI_lower = x_bar - margin_of_error\n",
    "CI_upper = x_bar + margin_of_error\n",
    "\n",
    "print(f\"The {confidence_level*100:.0f}% confidence interval for the population mean is ({CI_lower:.3f}, {CI_upper:.3f})\")"
   ]
  },
  {
   "cell_type": "markdown",
   "id": "d274ce5a",
   "metadata": {},
   "source": [
    "### The End"
   ]
  }
 ],
 "metadata": {
  "kernelspec": {
   "display_name": "Python 3 (ipykernel)",
   "language": "python",
   "name": "python3"
  },
  "language_info": {
   "codemirror_mode": {
    "name": "ipython",
    "version": 3
   },
   "file_extension": ".py",
   "mimetype": "text/x-python",
   "name": "python",
   "nbconvert_exporter": "python",
   "pygments_lexer": "ipython3",
   "version": "3.9.12"
  }
 },
 "nbformat": 4,
 "nbformat_minor": 5
}
